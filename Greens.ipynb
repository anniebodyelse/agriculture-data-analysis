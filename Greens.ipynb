{
 "cells": [
  {
   "cell_type": "code",
   "execution_count": 2,
   "metadata": {},
   "outputs": [
    {
     "name": "stderr",
     "output_type": "stream",
     "text": [
      "/Users/anniebodyelse/opt/anaconda3/lib/python3.8/site-packages/pandas/core/computation/expressions.py:20: UserWarning: Pandas requires version '2.7.3' or newer of 'numexpr' (version '2.7.1' currently installed).\n",
      "  from pandas.core.computation.check import NUMEXPR_INSTALLED\n"
     ]
    },
    {
     "name": "stdout",
     "output_type": "stream",
     "text": [
      "numpy version: 1.24.4\n",
      "scipy version: 1.10.1\n",
      "pandas version: 2.0.3\n",
      "seaborn version: 0.13.2\n",
      "matplotlib version: 3.7.5\n",
      "openpyxl version: 3.1.2\n",
      "geopandas version: 0.13.2\n",
      "folium version: 0.16.0\n"
     ]
    }
   ],
   "source": [
    "import numpy as np\n",
    "import scipy\n",
    "import pandas as pd\n",
    "import seaborn as sns\n",
    "import matplotlib.pyplot as plt\n",
    "import openpyxl\n",
    "import geopandas as gpd\n",
    "import folium\n",
    "\n",
    "print(\"numpy version:\", np.__version__)\n",
    "print(\"scipy version:\", scipy.__version__)\n",
    "print(\"pandas version:\", pd.__version__)\n",
    "print(\"seaborn version:\", sns.__version__)\n",
    "print(\"matplotlib version:\", plt.matplotlib.__version__)\n",
    "print(\"openpyxl version:\", openpyxl.__version__)\n",
    "print(\"geopandas version:\", gpd.__version__)\n",
    "print(\"folium version:\", folium.__version__)\n"
   ]
  },
  {
   "cell_type": "code",
   "execution_count": 3,
   "metadata": {},
   "outputs": [],
   "source": [
    "import pandas as pd\n",
    "\n",
    "data = pd.read_excel('/Users/anniebodyelse/Desktop/untitled folder/Green.xlsx')\n"
   ]
  },
  {
   "cell_type": "code",
   "execution_count": 4,
   "metadata": {},
   "outputs": [
    {
     "name": "stdout",
     "output_type": "stream",
     "text": [
      "<class 'pandas.core.frame.DataFrame'>\n",
      "RangeIndex: 32 entries, 0 to 31\n",
      "Data columns (total 11 columns):\n",
      " #   Column       Non-Null Count  Dtype  \n",
      "---  ------       --------------  -----  \n",
      " 0   Program      32 non-null     object \n",
      " 1   Year         32 non-null     int64  \n",
      " 2   Period       32 non-null     object \n",
      " 3   Week Ending  0 non-null      float64\n",
      " 4   Geo Level    32 non-null     object \n",
      " 5   State        32 non-null     object \n",
      " 6   State ANSI   32 non-null     int64  \n",
      " 7   Commodity    32 non-null     object \n",
      " 8   Data Item    32 non-null     object \n",
      " 9   Domain       32 non-null     object \n",
      " 10  Value        32 non-null     int64  \n",
      "dtypes: float64(1), int64(3), object(7)\n",
      "memory usage: 2.9+ KB\n"
     ]
    }
   ],
   "source": [
    "# Display basic information about the data\n",
    "data.info()\n"
   ]
  },
  {
   "cell_type": "code",
   "execution_count": 5,
   "metadata": {},
   "outputs": [],
   "source": [
    "# Check for missing values\n",
    "missing_values = data.isnull().sum()"
   ]
  },
  {
   "cell_type": "code",
   "execution_count": 6,
   "metadata": {},
   "outputs": [],
   "source": [
    "\n",
    "data_cleaned = data.dropna(subset=['Value'])  # Assuming 'Value' is crucial for analysis\n",
    "\n",
    "# Convert 'Value' to numeric\n",
    "data_cleaned['Value'] = pd.to_numeric(data_cleaned['Value'], errors='coerce')\n",
    "\n"
   ]
  },
  {
   "cell_type": "code",
   "execution_count": 7,
   "metadata": {},
   "outputs": [],
   "source": [
    "# Basic summary statistics\n",
    "summary_stats = data_cleaned.describe()\n",
    "\n"
   ]
  },
  {
   "cell_type": "code",
   "execution_count": 8,
   "metadata": {},
   "outputs": [
    {
     "name": "stdout",
     "output_type": "stream",
     "text": [
      "\n",
      "Summary Statistics:\n",
      "          Year  Week Ending  State ANSI         Value\n",
      "count    32.0          0.0   32.000000  3.200000e+01\n",
      "mean   2023.0          NaN   27.000000  8.705028e+07\n",
      "std       0.0          NaN   18.141025  1.731389e+08\n",
      "min    2023.0          NaN    4.000000  3.764000e+06\n",
      "25%    2023.0          NaN   12.000000  2.403975e+07\n",
      "50%    2023.0          NaN   26.000000  3.403800e+07\n",
      "75%    2023.0          NaN   41.250000  6.675150e+07\n",
      "max    2023.0          NaN   55.000000  9.416610e+08\n"
     ]
    }
   ],
   "source": [
    "print(\"\\nSummary Statistics:\\n\", summary_stats)"
   ]
  },
  {
   "cell_type": "code",
   "execution_count": 9,
   "metadata": {},
   "outputs": [
    {
     "data": {
      "text/plain": [
       "State\n",
       "CALIFORNIA        1664239000\n",
       "FLORIDA            302931000\n",
       "ARIZONA            205606000\n",
       "WISCONSIN          148393000\n",
       "GEORGIA            104731000\n",
       "MICHIGAN           102654000\n",
       "NEW YORK            71690000\n",
       "TEXAS               47707000\n",
       "WASHINGTON          39130000\n",
       "MINNESOTA           37949000\n",
       "NORTH CAROLINA      24536000\n",
       "OREGON              19321000\n",
       "PENNSYLVANIA        10097000\n",
       "ILLINOIS             6625000\n",
       "Name: Value, dtype: int64"
      ]
     },
     "execution_count": 9,
     "metadata": {},
     "output_type": "execute_result"
    }
   ],
   "source": [
    "# Total production value by state\n",
    "total_value_by_state = data_cleaned.groupby('State')['Value'].sum().sort_values(ascending=False)\n",
    "total_value_by_state"
   ]
  },
  {
   "cell_type": "code",
   "execution_count": 10,
   "metadata": {},
   "outputs": [
    {
     "data": {
      "text/plain": [
       "Commodity\n",
       "BROCCOLI     1070211000\n",
       "CABBAGE       597600000\n",
       "CELERY        362548000\n",
       "BEANS         362426000\n",
       "CUCUMBERS     289627000\n",
       "PEAS          103197000\n",
       "Name: Value, dtype: int64"
      ]
     },
     "execution_count": 10,
     "metadata": {},
     "output_type": "execute_result"
    }
   ],
   "source": [
    "# Total production value by commodity\n",
    "total_value_by_commodity = data_cleaned.groupby('Commodity')['Value'].sum().sort_values(ascending=False)\n",
    "total_value_by_commodity"
   ]
  },
  {
   "cell_type": "code",
   "execution_count": 11,
   "metadata": {},
   "outputs": [
    {
     "data": {
      "image/png": "[encoded data removed]",
      "text/plain": [
       "<Figure size 720x432 with 1 Axes>"
      ]
     },
     "metadata": {
      "needs_background": "light"
     },
     "output_type": "display_data"
    },
    {
     "data": {
      "image/png": "[encoded data removed]",
      "text/plain": [
       "<Figure size 720x432 with 1 Axes>"
      ]
     },
     "metadata": {
      "needs_background": "light"
     },
     "output_type": "display_data"
    }
   ],
   "source": [
    "import matplotlib.pyplot as plt\n",
    "\n",
    "# Bar chart for total production value by state\n",
    "plt.figure(figsize=(10, 6))\n",
    "total_value_by_state.plot(kind='bar')\n",
    "plt.title('Total Production Value by State')\n",
    "plt.xlabel('State')\n",
    "plt.ylabel('Total Production Value')\n",
    "plt.show()\n",
    "\n",
    "# Bar chart for total production value by commodity\n",
    "plt.figure(figsize=(10, 6))\n",
    "total_value_by_commodity.plot(kind='bar')\n",
    "plt.title('Total Production Value by Commodity')\n",
    "plt.xlabel('Commodity')\n",
    "plt.ylabel('Total Production Value')\n",
    "plt.show()"
   ]
  },
  {
   "cell_type": "code",
   "execution_count": 12,
   "metadata": {},
   "outputs": [
    {
     "data": {
      "text/plain": [
       "State\n",
       "CALIFORNIA    1664239000\n",
       "FLORIDA        302931000\n",
       "ARIZONA        205606000\n",
       "WISCONSIN      148393000\n",
       "GEORGIA        104731000\n",
       "Name: Value, dtype: int64"
      ]
     },
     "execution_count": 12,
     "metadata": {},
     "output_type": "execute_result"
    }
   ],
   "source": [
    "# Top 5 states by production value\n",
    "top_states = total_value_by_state.head(5)\n",
    "top_states\n",
    "\n"
   ]
  },
  {
   "cell_type": "code",
   "execution_count": 13,
   "metadata": {},
   "outputs": [
    {
     "data": {
      "text/plain": [
       "Commodity\n",
       "BROCCOLI     1070211000\n",
       "CABBAGE       597600000\n",
       "CELERY        362548000\n",
       "BEANS         362426000\n",
       "CUCUMBERS     289627000\n",
       "Name: Value, dtype: int64"
      ]
     },
     "execution_count": 13,
     "metadata": {},
     "output_type": "execute_result"
    }
   ],
   "source": [
    "# Top 5 commodities by production value\n",
    "top_commodities = total_value_by_commodity.head(5)\n",
    "top_commodities"
   ]
  },
  {
   "cell_type": "code",
   "execution_count": 14,
   "metadata": {},
   "outputs": [
    {
     "name": "stderr",
     "output_type": "stream",
     "text": [
      "<ipython-input-14-33796792396c>:6: UserWarning: \n",
      "\n",
      "`distplot` is a deprecated function and will be removed in seaborn v0.14.0.\n",
      "\n",
      "Please adapt your code to use either `displot` (a figure-level function with\n",
      "similar flexibility) or `histplot` (an axes-level function for histograms).\n",
      "\n",
      "For a guide to updating your code to use the new functions, please see\n",
      "https://gist.github.com/mwaskom/de44147ed2974457ad6372750bbe5751\n",
      "\n",
      "  sns.distplot(data_cleaned['Value'], bins=20, kde=True)\n"
     ]
    },
    {
     "data": {
      "image/png": "[encoded data removed]",
      "text/plain": [
       "<Figure size 720x432 with 1 Axes>"
      ]
     },
     "metadata": {
      "needs_background": "light"
     },
     "output_type": "display_data"
    }
   ],
   "source": [
    "import seaborn as sns\n",
    "import matplotlib.pyplot as plt\n",
    "\n",
    "# Distribution plot for production values\n",
    "plt.figure(figsize=(10, 6))\n",
    "sns.distplot(data_cleaned['Value'], bins=20, kde=True)\n",
    "plt.title('Distribution of Production Values')\n",
    "plt.xlabel('Production Value')\n",
    "plt.ylabel('Frequency')\n",
    "plt.show()\n"
   ]
  },
  {
   "cell_type": "code",
   "execution_count": 16,
   "metadata": {},
   "outputs": [
    {
     "name": "stdout",
     "output_type": "stream",
     "text": [
      "             Year  Week Ending  State ANSI     Value\n",
      "Year          NaN          NaN         NaN       NaN\n",
      "Week Ending   NaN          NaN         NaN       NaN\n",
      "State ANSI    NaN          NaN    1.000000 -0.394073\n",
      "Value         NaN          NaN   -0.394073  1.000000\n"
     ]
    }
   ],
   "source": [
    "# Select only numeric columns\n",
    "numeric_columns = data_cleaned.select_dtypes(include=[np.number])\n",
    "\n",
    "# Calculate the correlation matrix\n",
    "correlation_matrix = numeric_columns.corr()\n",
    "print(correlation_matrix)\n"
   ]
  }
 ],
 "metadata": {
  "kernelspec": {
   "display_name": "Python 3",
   "language": "python",
   "name": "python3"
  },
  "language_info": {
   "codemirror_mode": {
    "name": "ipython",
    "version": 3
   },
   "file_extension": ".py",
   "mimetype": "text/x-python",
   "name": "python",
   "nbconvert_exporter": "python",
   "pygments_lexer": "ipython3",
   "version": "3.8.3"
  }
 },
 "nbformat": 4,
 "nbformat_minor": 4
}
